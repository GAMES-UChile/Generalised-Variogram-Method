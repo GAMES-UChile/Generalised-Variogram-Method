{
 "cells": [
  {
   "cell_type": "code",
   "execution_count": 1,
   "id": "0a709bd8",
   "metadata": {
    "ExecuteTime": {
     "end_time": "2022-12-19T19:05:47.097041Z",
     "start_time": "2022-12-19T19:05:44.851752Z"
    }
   },
   "outputs": [],
   "source": [
    "%load_ext autoreload\n",
    "%autoreload 2\n",
    "\n",
    "import mogptk\n",
    "import matplotlib.pyplot as plt\n",
    "import numpy as np\n",
    "from scipy.stats import qmc\n",
    "\n",
    "#our package\n",
    "from gpinit import *\n",
    "import utils\n",
    "\n",
    "plt.rcParams[\"figure.figsize\"] = (10,3)"
   ]
  },
  {
   "cell_type": "code",
   "execution_count": 34,
   "id": "0cf8e709",
   "metadata": {
    "ExecuteTime": {
     "end_time": "2022-12-19T20:03:33.156137Z",
     "start_time": "2022-12-19T20:02:16.362144Z"
    },
    "scrolled": true
   },
   "outputs": [
    {
     "name": "stdout",
     "output_type": "stream",
     "text": [
      "0 / 100\n",
      "10 / 100\n",
      "20 / 100\n",
      "30 / 100\n",
      "40 / 100\n",
      "50 / 100\n",
      "60 / 100\n",
      "70 / 100\n",
      "80 / 100\n",
      "90 / 100\n",
      "magnitude: 0.4507582870128659 ± 0.619545084558432\n",
      "lengthscale: 3.9589760396274754 ± 2.501263003057776\n",
      "noise std.dev.: 0.5626099523207637 ± 0.30163739994781147\n"
     ]
    }
   ],
   "source": [
    "N = 1000\n",
    "k = 0\n",
    "input_dims = 5\n",
    "\n",
    "mag = 0.5\n",
    "l = 5.0#[0.5]*input_dims #[1.0, 0.2,  0.2,  0.2,  0.06][:input_dims]\n",
    "noise = 0.5\n",
    "\n",
    "kernel = mogptk.gpr.SquaredExponentialKernel(order=-1, input_dims=input_dims)\n",
    "kernel.magnitude.assign(mag)\n",
    "kernel.lengthscale.assign(l)\n",
    "\n",
    "# halton\n",
    "#x = qmc.Halton(d=input_dims).random(n=N) \n",
    "#x *= np.array([100] * input_dims)\n",
    "#x *= 1+0.1*np.random.rand(x.shape[0],x.shape[1])\n",
    "\n",
    "# random\n",
    "#x = 10.0*np.random.rand(N,input_dims)\n",
    "\n",
    "# gaussian\n",
    "#x = np.random.multivariate_normal([0]*input_dims, np.diag([1]*input_dims), N)\n",
    "#x = np.abs(x)\n",
    "\n",
    "# uniform magnitude\n",
    "#np.random.seed(534)\n",
    "n = 100\n",
    "mags = []\n",
    "ls = []\n",
    "noises = []\n",
    "for i in range(n):\n",
    "    if i%10 == 0:\n",
    "        print(i, '/', n)\n",
    "    x = np.random.normal(size=(N,input_dims))\n",
    "    mag_ = 100.0*np.random.uniform(size=N)\n",
    "    #mag_ = 100.0*np.ones((N,))\n",
    "    scale_ = np.expand_dims(np.linalg.norm(x, axis=1)/mag_, axis=1)\n",
    "    x /= scale_\n",
    "    #print(mag, scale)\n",
    "    #x = np.abs(x)\n",
    "\n",
    "    #x = np.linspace(0, 100, N).reshape(-1,1)\n",
    "\n",
    "    #plt.scatter(x[:,0], x[:,1])\n",
    "\n",
    "    K = kernel(x).detach().numpy() + noise**2*np.eye(N)\n",
    "    y = np.random.multivariate_normal(np.zeros((N,)), K)\n",
    "\n",
    "    gp = gpinit(space_input=x, space_output=y,\n",
    "                    aim='learning', kernel ='SE_MD', order=1)\n",
    "    freqs = np.linspace(0.001,0.06,1000)\n",
    "    gp.set_freqs(freqs)\n",
    "\n",
    "    #hypers0=np.array([5, 0.966, 0.1286])\n",
    "    gp.initialise(metric='L2_MD')#, hypers0=hypers0)\n",
    "    mags.append(gp.theta[0]**2)\n",
    "    ls.append(1.0/np.sqrt(2.0*gp.theta[1]))\n",
    "    noises.append(gp.theta[2])\n",
    "    \n",
    "mags = np.array(mags)\n",
    "ls = np.array(ls)\n",
    "noises = np.array(noises)\n",
    "print('magnitude:', mags.mean(), '±', mags.std())\n",
    "print('lengthscale:', ls.mean(), '±', ls.std())\n",
    "print('noise std.dev.:', noises.mean(), '±', noises.std())\n",
    "\n",
    "# data = mogptk.Data(x,y)\n",
    "# if input_dims == 1:\n",
    "#     data.plot()"
   ]
  },
  {
   "cell_type": "code",
   "execution_count": null,
   "id": "3e79450c",
   "metadata": {
    "ExecuteTime": {
     "end_time": "2022-12-19T18:57:15.624785Z",
     "start_time": "2022-12-19T18:57:15.596775Z"
    }
   },
   "outputs": [],
   "source": [
    "# x.shape"
   ]
  },
  {
   "cell_type": "code",
   "execution_count": null,
   "id": "dd547e21",
   "metadata": {
    "ExecuteTime": {
     "end_time": "2022-12-19T18:57:15.654629Z",
     "start_time": "2022-12-19T18:57:15.627462Z"
    },
    "scrolled": false
   },
   "outputs": [],
   "source": [
    "# model = mogptk.Model(data, kernel)\n",
    "# #print(\"optimal loss:\", model.loss())\n",
    "# print(\"optimal error:\", model.error('mape'))\n",
    "\n",
    "# model.gpr.kernel.magnitude.assign(np.random.rand(1))\n",
    "# model.gpr.kernel.lengthscale.assign(np.random.rand(1))\n",
    "# model.gpr.likelihood.scale.assign(np.random.rand(1))\n",
    "\n",
    "# print()\n",
    "# print('magnitude', model.gpr.kernel.magnitude.numpy())\n",
    "# print('lengthscale', model.gpr.kernel.lengthscale.numpy())\n",
    "# print('scale', model.gpr.likelihood.scale.numpy())"
   ]
  },
  {
   "cell_type": "code",
   "execution_count": null,
   "id": "f1c0bcd8",
   "metadata": {
    "ExecuteTime": {
     "end_time": "2022-12-19T18:57:15.689361Z",
     "start_time": "2022-12-19T18:57:15.658453Z"
    },
    "scrolled": false
   },
   "outputs": [],
   "source": [
    "# model.train(iters=250, method ='LBFGS', verbose=True, error='mape', lr=0.25)\n",
    "# model.plot_losses();\n",
    "\n",
    "# print()\n",
    "# print('magnitude', model.gpr.kernel.magnitude.numpy())\n",
    "# print('lengthscale', model.gpr.kernel.lengthscale.numpy())\n",
    "# print('scale', model.gpr.likelihood.scale.numpy())"
   ]
  },
  {
   "cell_type": "code",
   "execution_count": null,
   "id": "0dfc907e",
   "metadata": {
    "ExecuteTime": {
     "end_time": "2022-12-19T18:57:16.087750Z",
     "start_time": "2022-12-19T18:57:16.035446Z"
    }
   },
   "outputs": [],
   "source": [
    "# if input_dims == 1:\n",
    "#     model.plot_prediction();"
   ]
  },
  {
   "cell_type": "code",
   "execution_count": null,
   "id": "bb07f736",
   "metadata": {
    "ExecuteTime": {
     "end_time": "2022-12-19T18:57:16.456800Z",
     "start_time": "2022-12-19T18:57:16.391856Z"
    },
    "scrolled": false
   },
   "outputs": [],
   "source": [
    "# _, Y_true = data.get_data()\n",
    "# X, Y_pred, _, _ = model.predict()\n",
    "\n",
    "# import pandas as pd\n",
    "# pd.set_option('display.max_rows', 50)\n",
    "\n",
    "# df = pd.DataFrame()\n",
    "# df['y_true'] = Y_true\n",
    "# df['y_pred'] = Y_pred\n",
    "\n",
    "# print('MAPE', np.mean(abs(df['y_true']-df['y_pred'])/df['y_true']))\n",
    "# print('MSE', np.mean((df['y_true']-df['y_pred'])**2))\n",
    "\n",
    "# df.iloc[:100]"
   ]
  },
  {
   "cell_type": "code",
   "execution_count": null,
   "id": "0db641a5",
   "metadata": {
    "ExecuteTime": {
     "end_time": "2022-12-19T18:57:17.264827Z",
     "start_time": "2022-12-19T18:57:16.840686Z"
    }
   },
   "outputs": [],
   "source": [
    "gp = gpinit(space_input=x, space_output=y,\n",
    "                aim='learning', kernel ='SE_MD', order=1)\n",
    "freqs = np.linspace(0.001,0.06,1000)\n",
    "gp.set_freqs(freqs)\n",
    "\n",
    "#hypers0=np.array([5, 0.966, 0.1286])\n",
    "gp.initialise(metric='L2_MD')#, hypers0=hypers0)\n",
    "print('magnitude:', gp.theta[0]**2)\n",
    "print('lengthscale:', 1.0/np.sqrt(2.0*gp.theta[1]))\n",
    "print('noise std.dev.:', gp.theta[2])\n",
    "\n",
    "ind = np.argsort(gp.acf_times)\n",
    "plt.plot(gp.acf_times[ind],gp.acf_values[ind],'o', label='Empirical variance')\n",
    "plt.plot(gp.acf_times[ind], gp.Ktheta.T[ind], lw=4, label='Learned kernel (GVM)')\n",
    "plt.legend()\n",
    "plt.xlabel('Lag magnitude')\n",
    "plt.title('Variogram for a 5-dimensional isotropic SE kernel')\n",
    "plt.savefig('exp6.pdf')"
   ]
  },
  {
   "cell_type": "code",
   "execution_count": null,
   "id": "eb7a0e2c",
   "metadata": {
    "ExecuteTime": {
     "end_time": "2022-12-19T18:37:26.216552Z",
     "start_time": "2022-12-19T18:37:26.193515Z"
    }
   },
   "outputs": [],
   "source": [
    "# model = mogptk.Model(data, kernel)\n",
    "# model.gpr.kernel.magnitude.assign(gp.theta[0]**2)\n",
    "# model.gpr.kernel.lengthscale.assign(1.0/np.sqrt(2.0*gp.theta[1]))\n",
    "# model.gpr.likelihood.scale.assign(gp.theta[2])\n",
    "\n",
    "# model.train(iters=250, method ='LBFGS', verbose=True, error='mape', lr=0.25)\n",
    "# model.plot_losses();\n",
    "\n",
    "# print()\n",
    "# print('magnitude', model.gpr.kernel.magnitude.numpy())\n",
    "# print('lengthscale', model.gpr.kernel.lengthscale.numpy())\n",
    "# print('scale', model.gpr.likelihood.scale.numpy())"
   ]
  },
  {
   "cell_type": "code",
   "execution_count": null,
   "id": "d95c0b72",
   "metadata": {},
   "outputs": [],
   "source": []
  }
 ],
 "metadata": {
  "kernelspec": {
   "display_name": "Python 3 (ipykernel)",
   "language": "python",
   "name": "python3"
  },
  "language_info": {
   "codemirror_mode": {
    "name": "ipython",
    "version": 3
   },
   "file_extension": ".py",
   "mimetype": "text/x-python",
   "name": "python",
   "nbconvert_exporter": "python",
   "pygments_lexer": "ipython3",
   "version": "3.9.12"
  }
 },
 "nbformat": 4,
 "nbformat_minor": 5
}
